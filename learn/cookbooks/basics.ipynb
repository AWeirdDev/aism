{
 "cells": [
  {
   "cell_type": "code",
   "execution_count": 6,
   "metadata": {},
   "outputs": [
    {
     "data": {
      "text/plain": [
       "Aism::<RustAism>()"
      ]
     },
     "execution_count": 6,
     "metadata": {},
     "output_type": "execute_result"
    }
   ],
   "source": [
    "from aism import Aism\n",
    "\n",
    "ai = Aism()\n",
    "ai"
   ]
  },
  {
   "cell_type": "markdown",
   "metadata": {},
   "source": [
    "Aism is capable of handling all kinds of data and can be used to summarize, translate, check, and more.\n",
    "\n",
    "Let's say we have a sample data about a Cafe named \"Acme\" (very fancy):"
   ]
  },
  {
   "cell_type": "code",
   "execution_count": 7,
   "metadata": {},
   "outputs": [],
   "source": [
    "description = \"Acme Café is a hidden gem nestled at the edge of a tranquil forest, offering a serene escape from the bustle of the city. With its elegant décor, cozy seating, and soft jazz playing in the background, Acme blends luxury and relaxation.\"\n",
    "menu = \"\"\"\\\n",
    "# Acme Café Dessert Menu\n",
    "\n",
    "Signature Soufflé\n",
    "Light, airy, and perfectly baked to golden perfection. Served with a side of vanilla crème anglaise or rich chocolate sauce.\n",
    "\n",
    "Forest Berry Tart\n",
    "A crisp, buttery crust filled with creamy custard and topped with a medley of fresh, hand-picked berries from the nearby forest.\n",
    "\n",
    "Chocolate Hazelnut Torte\n",
    "A decadent, flourless chocolate cake layered with smooth hazelnut ganache, finished with a sprinkle of sea salt and roasted hazelnuts.\n",
    "\n",
    "Lemon Lavender Cake\n",
    "A zesty lemon cake infused with a hint of lavender, glazed with a delicate citrus frosting. Light, floral, and refreshing.\n",
    "\n",
    "Classic Cheesecake\n",
    "Creamy New York-style cheesecake with a graham cracker crust, served with your choice of fresh fruit compote or a drizzle of caramel sauce.\"\"\""
   ]
  },
  {
   "cell_type": "markdown",
   "metadata": {},
   "source": [
    "Now, let's learn how to use this *realistic-looking* data to see what Aism can really do!\n",
    "\n",
    "First things first, we have to create a new instance."
   ]
  },
  {
   "cell_type": "code",
   "execution_count": 9,
   "metadata": {},
   "outputs": [],
   "source": [
    "instance = ai.give(description).give(menu)"
   ]
  },
  {
   "cell_type": "code",
   "execution_count": 10,
   "metadata": {},
   "outputs": [
    {
     "data": {
      "text/plain": [
       "'Acme Café offers a range of desserts, including soufflé, forest berry tart, chocolate hazelnut torite, lemon lavender cake, and classic cheesecake, each with unique flavor profiles and presentation.'"
      ]
     },
     "execution_count": 10,
     "metadata": {},
     "output_type": "execute_result"
    }
   ],
   "source": [
    "# Summarize the provided data\n",
    "instance.summarize()"
   ]
  },
  {
   "cell_type": "code",
   "execution_count": 11,
   "metadata": {},
   "outputs": [
    {
     "data": {
      "text/plain": [
       "\"0. Le Café Acme est un joyau caché au bout d'un bois calme, offrant.un refuge paisible loin du bruit de la ville. Avec son décor élégant, ses confortables sièges, et de la jazz douce jouée en arrière-plan, Acme combine luxe et détente.\\n\\n1. # Carte de desserts Café Acme\\n\\nSoufflé Signature\\nLégère, aérée et parfaitement cuite au caramel. Servie avec une accompagnement de crème anglaise vanille ou de sauce chocolat riche.\\n\\nTarte aux Fruits de Bois\\nUn corps de pâte croustillant rempli de crème et surmonté d'une mélange de fruits frais, cueillis à la main, issus du bois voisin.\\n\\nGâteau au Chocolat Amandine\\nUn gâteau au chocolat sans farine, au cou cou enfoui avec un ganache à noix de macadamia, fini d'une pincée de sel de mer et de noix de macadamia torréfiées.\\n\\nGâteau au Citron Lavande\\nUn gâteau au citron frais infusé d'un léger parfum de lavande, glacé d'une délicate glace au citron. Léger, floral et rafraîchissant.\\n\\nGâteau au Fromage Classique\\nUn cheesecake au style de New York crémeux avec un corps de biscuit à graham, servie avec votre choix de compote de fruits frais ou d'un filet de sauce caramel.\""
      ]
     },
     "execution_count": 11,
     "metadata": {},
     "output_type": "execute_result"
    }
   ],
   "source": [
    "# Translate the provided data\n",
    "instance.translate(\"French\")"
   ]
  },
  {
   "cell_type": "code",
   "execution_count": 12,
   "metadata": {},
   "outputs": [
    {
     "data": {
      "text/plain": [
       "True"
      ]
     },
     "execution_count": 12,
     "metadata": {},
     "output_type": "execute_result"
    }
   ],
   "source": [
    "instance.mentioned(\"the menu of the establishment\")"
   ]
  },
  {
   "cell_type": "code",
   "execution_count": 13,
   "metadata": {},
   "outputs": [
    {
     "data": {
      "text/plain": [
       "True"
      ]
     },
     "execution_count": 13,
     "metadata": {},
     "output_type": "execute_result"
    }
   ],
   "source": [
    "instance.matches(\"this is a description of an establishment\")"
   ]
  },
  {
   "cell_type": "code",
   "execution_count": 14,
   "metadata": {},
   "outputs": [
    {
     "data": {
      "text/plain": [
       "False"
      ]
     },
     "execution_count": 14,
     "metadata": {},
     "output_type": "execute_result"
    }
   ],
   "source": [
    "# Appendix: Profanity check\n",
    "instance.is_sensitive()"
   ]
  },
  {
   "cell_type": "markdown",
   "metadata": {},
   "source": [
    "You can also create instances of **dataclasses** using Aism.\n",
    "\n",
    "Aism refers the data and fill out everything for you."
   ]
  },
  {
   "cell_type": "code",
   "execution_count": null,
   "metadata": {},
   "outputs": [],
   "source": [
    "from dataclasses import dataclass\n",
    "\n",
    "@dataclass\n",
    "class MenuItem:\n",
    "    name: str\n",
    "    excerpt: str"
   ]
  }
 ],
 "metadata": {
  "kernelspec": {
   "display_name": "aism-loey-Q7s",
   "language": "python",
   "name": "python3"
  },
  "language_info": {
   "codemirror_mode": {
    "name": "ipython",
    "version": 3
   },
   "file_extension": ".py",
   "mimetype": "text/x-python",
   "name": "python",
   "nbconvert_exporter": "python",
   "pygments_lexer": "ipython3",
   "version": "3.12.5"
  }
 },
 "nbformat": 4,
 "nbformat_minor": 2
}
